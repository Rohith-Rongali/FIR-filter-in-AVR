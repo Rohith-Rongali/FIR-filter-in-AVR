{
 "cells": [
  {
   "cell_type": "code",
   "execution_count": 14,
   "metadata": {},
   "outputs": [],
   "source": [
    "#the following fn converts the samples from matlab into hexadecimal inputs suitable for the AVR FMULS\n",
    "def avr_input(filename):\n",
    "    matrix=[]\n",
    "    import csv\n",
    "    with open(filename, 'r') as file:\n",
    "        reader = csv.reader(file)\n",
    "        for row in reader:\n",
    "            matrix.append(row)\n",
    "    vec=matrix[0]\n",
    "    for i,val in enumerate(vec):\n",
    "        if val=='-0':\n",
    "            vec[i]='0'\n",
    "\n",
    "    vec2 = [float(x.strip('\"')) for x in vec]\n",
    "\n",
    "    for i,val in enumerate(vec2):\n",
    "        if val==0.0:\n",
    "            vec2[i]=0\n",
    "        vec2[i]=round(vec2[i],7)    \n",
    "\n",
    "    for i,val in enumerate(vec2):  #we need the numbers to be in range(-1,1) for FMULS\n",
    "        if val>=1:\n",
    "            vec2[i]=0\n",
    "        if val<=-1:\n",
    "            vec2[i]=0\n",
    "\n",
    "    for i,val in enumerate(vec2):   #all the negative no.'s(n) will now be stored as 2+n in the range(1,2)\n",
    "        if val<0:\n",
    "            vec2[i]=vec2[i]+2;\n",
    "\n",
    "    #the function converts decimal no.'s(with 7 places after decimal point and one place before decimal point) into binary\n",
    "    def dec_to_binary(number, places):           \n",
    "\n",
    "        a, b = str(number).split(\".\") #separate the decimal part   \n",
    "        a = int(a) \n",
    "        b = int(b) #convert them back to int\n",
    "\n",
    "        res = bin(a).lstrip(\"0b\") #convert into binary and remove '0b'\n",
    "\n",
    "        if res=='':\n",
    "            res='0'\n",
    "\n",
    "        # Iterate the number of times, we want \n",
    "        # the number of decimal places to be \n",
    "        for x in range(places): \n",
    "\n",
    "            # Multiply the decimal value by 2  \n",
    "            # and seperate the whole number part \n",
    "            # and decimal part \n",
    "            a,b = str((decimal_converter(b)) * 2).split(\".\") \n",
    "\n",
    "            # Convert the decimal part to int \n",
    "            b = int(b) \n",
    "\n",
    "            # Keep adding the integer parts  \n",
    "            res += a\n",
    "\n",
    "        return res \n",
    "\n",
    "    def decimal_converter(no):  \n",
    "        while no > 1: \n",
    "            no /= 10\n",
    "        return no \n",
    "\n",
    "\n",
    "    for i,val in enumerate(vec2):\n",
    "        if val>0.1:\n",
    "            vec2[i]=dec_to_binary(vec2[i],7)\n",
    "        if val<=0.1:\n",
    "            vec2[i]='00000000'\n",
    "        vec2[i]=hex(int(vec2[i], 2))\n",
    "\n",
    "\n",
    "\n",
    "    vec2_a=vec2[:250]       #250\n",
    "    vec2_b=vec2[246:500]    #254\n",
    "    vec2_c=vec2[496:750]    #254\n",
    "    vec2_d=vec2[746:1000]   #254\n",
    "\n",
    "    return (vec2_a,vec2_b,vec2_c,vec2_d)"
   ]
  },
  {
   "cell_type": "code",
   "execution_count": 15,
   "metadata": {},
   "outputs": [],
   "source": []
  },
  {
   "cell_type": "code",
   "execution_count": 38,
   "metadata": {},
   "outputs": [],
   "source": [
    "vec_wgn=avr_input('White_noise.csv')\n",
    "\n",
    "with open('input_files/wgn_inp_hex_a.csv', 'w', newline='') as myfile:\n",
    "    wr = csv.writer(myfile)\n",
    "    wr.writerow(vec_wgn[0])\n",
    "    \n",
    "with open('input_files/wgn_inp_hex_b.csv', 'w', newline='') as myfile:\n",
    "    wr = csv.writer(myfile)\n",
    "    wr.writerow(vec_wgn[1])   \n",
    "    \n",
    "with open('input_files/wgn_inp_hex_c.csv', 'w', newline='') as myfile:\n",
    "    wr = csv.writer(myfile)\n",
    "    wr.writerow(vec_wgn[2])  \n",
    "    \n",
    "with open('input_files/wgn_inp_hex_d.csv', 'w', newline='') as myfile:\n",
    "    wr = csv.writer(myfile)\n",
    "    wr.writerow(vec_wgn[3]) "
   ]
  },
  {
   "cell_type": "code",
   "execution_count": 16,
   "metadata": {},
   "outputs": [],
   "source": [
    "vec_sin=avr_input('sine_inp.csv')\n",
    "\n",
    "with open('input_files/sine_inp_hex_a.csv', 'w', newline='') as myfile:\n",
    "    wr = csv.writer(myfile)\n",
    "    wr.writerow(vec_sin[0])\n",
    "    \n",
    "with open('input_files/sine_inp_hex_b.csv', 'w', newline='') as myfile:\n",
    "    wr = csv.writer(myfile)\n",
    "    wr.writerow(vec_sin[1])   \n",
    "    \n",
    "with open('input_files/sine_inp_hex_c.csv', 'w', newline='') as myfile:\n",
    "    wr = csv.writer(myfile)\n",
    "    wr.writerow(vec_sin[2])  \n",
    "    \n",
    "with open('input_files/sine_inp_hex_d.csv', 'w', newline='') as myfile:\n",
    "    wr = csv.writer(myfile)\n",
    "    wr.writerow(vec_sin[3])   "
   ]
  },
  {
   "cell_type": "code",
   "execution_count": 17,
   "metadata": {},
   "outputs": [],
   "source": [
    "dc=[]\n",
    "dc1=[]\n",
    "for i in range(250):\n",
    "    dc.append('0x7F')\n",
    "for i in range(254):\n",
    "    dc1.append('0x7F')    \n",
    "    \n",
    "with open('input_files/dc_inp_hex_a.csv', 'w', newline='') as myfile:\n",
    "    wr = csv.writer(myfile)\n",
    "    wr.writerow(dc)\n",
    "    \n",
    "with open('input_files/dc_inp_hex_b.csv', 'w', newline='') as myfile:\n",
    "    wr = csv.writer(myfile)\n",
    "    wr.writerow(dc1)    \n",
    "#the other 2 input files not needed as they are the same as dc_inp_b.csv"
   ]
  },
  {
   "cell_type": "code",
   "execution_count": 193,
   "metadata": {},
   "outputs": [
    {
     "data": {
      "text/plain": [
       "''"
      ]
     },
     "execution_count": 193,
     "metadata": {},
     "output_type": "execute_result"
    }
   ],
   "source": []
  },
  {
   "cell_type": "code",
   "execution_count": null,
   "metadata": {},
   "outputs": [],
   "source": []
  }
 ],
 "metadata": {
  "kernelspec": {
   "display_name": "Python 3",
   "language": "python",
   "name": "python3"
  },
  "language_info": {
   "codemirror_mode": {
    "name": "ipython",
    "version": 3
   },
   "file_extension": ".py",
   "mimetype": "text/x-python",
   "name": "python",
   "nbconvert_exporter": "python",
   "pygments_lexer": "ipython3",
   "version": "3.7.6"
  }
 },
 "nbformat": 4,
 "nbformat_minor": 4
}
